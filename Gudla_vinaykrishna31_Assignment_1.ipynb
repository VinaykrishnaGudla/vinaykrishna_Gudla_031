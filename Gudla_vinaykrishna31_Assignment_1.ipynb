{
 "cells": [
  {
   "cell_type": "markdown",
   "metadata": {
    "id": "view-in-github"
   },
   "source": [
    "<a href=\"https://colab.research.google.com/github/unt-iialab/INFO5731_Spring2020/blob/master/Assignments/INFO5731_Assignment_One.ipynb\" target=\"_parent\"><img src=\"https://colab.research.google.com/assets/colab-badge.svg\" alt=\"Open In Colab\"/></a>"
   ]
  },
  {
   "cell_type": "markdown",
   "metadata": {
    "id": "Ryk8D1Q4Wsrp"
   },
   "source": [
    "# **INFO5731 Assignment One**"
   ]
  },
  {
   "cell_type": "markdown",
   "metadata": {
    "id": "qcP6re2g5A5r"
   },
   "source": [
    "This assignment includes range of programming tasks and data analysis exercises, aiming to enhance your Python skills and proficiency in string manipulation, numerical computations, and data science. Follow the instructions carefully and design well-structured Python programs to address each question.\n",
    "\n",
    "Late Submission will have a penalty of 10% reduction for each day after the deadline."
   ]
  },
  {
   "cell_type": "markdown",
   "metadata": {
    "id": "JkzR8cFAyGik"
   },
   "source": [
    "# Question 1 (10 points).\n",
    "\n",
    "The formula that describes the volume V of a hemisphere with radius r is the following:\n",
    "\n",
    "$ V=\\frac{2}{3}\\ast\\ \\pi\\ast\\ r^3 $\n",
    "\n",
    "Write a program to calculate the value of V when r is in the range of even numbers from 1-20. Output the result in the following format:\n",
    "\n",
    "\tr\tV\n",
    "\t2\t…\n",
    "\t4\t…\n",
    "\t6\t…\n",
    "\t.\n",
    "\t.\n",
    "\t.\n",
    "\t20\t…\n"
   ]
  },
  {
   "cell_type": "code",
   "execution_count": null,
   "metadata": {
    "colab": {
     "base_uri": "https://localhost:8080/"
    },
    "id": "jDyTKYs-yGit",
    "outputId": "48efa393-54d4-41dd-93c6-2de0cb537e2c"
   },
   "outputs": [
    {
     "name": "stdout",
     "output_type": "stream",
     "text": [
      "r    V\n",
      "2    16.76\n",
      "4    134.04\n",
      "6    452.39\n",
      "8    1072.33\n",
      "10    2094.40\n",
      "12    3619.11\n",
      "14    5747.02\n",
      "16    8578.64\n",
      "18    12214.51\n",
      "20    16755.16\n"
     ]
    }
   ],
   "source": [
    "import math\n",
    "\n",
    "def calculate_hemisphere_volume(radius):\n",
    "  # The formula is\n",
    "    return (2/3) * math.pi * radius**3\n",
    "\n",
    "# Print header\n",
    "print(\"r    V\")\n",
    "\n",
    "# Calculate and print volume for even values of radius in the range 1-20\n",
    "for radius in range(2, 21, 2):\n",
    "    volume = calculate_hemisphere_volume(radius)\n",
    "    print(f\"{radius}    {volume:.2f}\")\n",
    "\n",
    "\n"
   ]
  },
  {
   "cell_type": "markdown",
   "metadata": {
    "id": "90_NR8c5XGWc"
   },
   "source": [
    "# Question 2 (20 points)\n",
    "\n",
    "(a) Write a Python program to generate a sequence of 12 random numbers falling within the range of 50 to 150.\n",
    "\n",
    "(b) Arrange the generated numbers in ascending order. Display the sorted list.\n",
    "\n",
    "(c) Extend the program to arrange the numbers in descending order as well. Present the sorted list accordingly.\n",
    "\n",
    "(d) Compute and output the average of the entire group of generated numbers.\n",
    "\n",
    "(e) Enhance the program to calculate and display the average of the first 6 numbers from both the ascending and descending sorted lists."
   ]
  },
  {
   "cell_type": "code",
   "execution_count": null,
   "metadata": {
    "colab": {
     "base_uri": "https://localhost:8080/"
    },
    "id": "5QX6bJjGWXY9",
    "outputId": "b17528fd-aba8-421c-d9cc-deb50f202765"
   },
   "outputs": [
    {
     "name": "stdout",
     "output_type": "stream",
     "text": [
      "Part (b): Arranging numbers in ascending order\n",
      "Original list: [66, 139, 138, 63, 112, 109, 149, 130, 121, 127, 95, 80]\n",
      "Ascending Sorted List: [63, 66, 80, 95, 109, 112, 121, 127, 130, 138, 139, 149]\n",
      "\n",
      "Part (c): Arranging numbers in descending order\n",
      "Original list: [66, 139, 138, 63, 112, 109, 149, 130, 121, 127, 95, 80]\n",
      "Descending Sorted List: [149, 139, 138, 130, 127, 121, 112, 109, 95, 80, 66, 63]\n",
      "\n",
      "Part (d): Computing the average of all numbers\n",
      "Original list: [66, 139, 138, 63, 112, 109, 149, 130, 121, 127, 95, 80]\n",
      "Average of all numbers: 110.75\n",
      "\n",
      "Part (e): Calculating the average of the first 6 numbers\n",
      "Ascending Sorted List: [63, 66, 80, 95, 109, 112]\n",
      "Average of the first 6 numbers (ascending): 87.50\n",
      "\n",
      "Descending Sorted List: [149, 139, 138, 130, 127, 121]\n",
      "Average of the first 6 numbers (descending): 134.00\n"
     ]
    }
   ],
   "source": [
    "import random\n",
    "\n",
    "# Part (a): Generate a sequence of 12 random numbers in the range of 50 to 150\n",
    "random_numbers = [random.randint(50, 150) for _ in range(12)]\n",
    "\n",
    "# Part (b): Arrange the numbers in ascending order and display the sorted list\n",
    "ascending_sorted = sorted(random_numbers)\n",
    "print(\"Part (b): Arranging numbers in ascending order\")\n",
    "print(\"Original list:\", random_numbers)\n",
    "print(\"Ascending Sorted List:\", ascending_sorted)\n",
    "\n",
    "# Part (c): Arrange the numbers in descending order and display the sorted list\n",
    "descending_sorted = sorted(random_numbers, reverse=True)\n",
    "print(\"\\nPart (c): Arranging numbers in descending order\")\n",
    "print(\"Original list:\", random_numbers)\n",
    "print(\"Descending Sorted List:\", descending_sorted)\n",
    "\n",
    "# Part (d): Compute and output the average of the entire group of generated numbers\n",
    "average_all = sum(random_numbers) / len(random_numbers)\n",
    "print(\"\\nPart (d): Computing the average of all numbers\")\n",
    "print(\"Original list:\", random_numbers)\n",
    "print(f\"Average of all numbers: {average_all:.2f}\")\n",
    "\n",
    "# Part (e): Calculate and display the average of the first 6 numbers from both lists\n",
    "average_first_6_ascending = sum(ascending_sorted[:6]) / 6\n",
    "average_first_6_descending = sum(descending_sorted[:6]) / 6\n",
    "\n",
    "print(\"\\nPart (e): Calculating the average of the first 6 numbers\")\n",
    "print(\"Ascending Sorted List:\", ascending_sorted[:6])\n",
    "print(f\"Average of the first 6 numbers (ascending): {average_first_6_ascending:.2f}\")\n",
    "\n",
    "print(\"\\nDescending Sorted List:\", descending_sorted[:6])\n",
    "print(f\"Average of the first 6 numbers (descending): {average_first_6_descending:.2f}\")\n",
    "\n",
    "\n"
   ]
  },
  {
   "cell_type": "markdown",
   "metadata": {
    "id": "1F_PZdH9Sh49"
   },
   "source": [
    "# Question 3 (20 points).\n",
    "\n",
    "Create a Python program that encompasses various string manipulation task:\n",
    "\n",
    "(a) Prompt the user to input two sentences.\n",
    "\n",
    "(b) Transform each sentence into a list, where each element corresponds to a word in the sentence. For example, if the sentences are \"Hello, how are you doing today?\" and \"This is an example sentence for the program!\"\n",
    "\n",
    "The program should output:\n",
    "['Hello', ',', 'how', 'are', 'you', 'doing', 'today', '?', 'This', 'is', 'an', 'example', 'sentence', 'for', 'the', 'program', '!']\n",
    "\n",
    "(c) Compare the two sentences. Print out a list of words that occur in both sentences.\n",
    "\n",
    "(d) Remove any punctuation from the sentence and print the sanitized sentences. It should remove at least the following characters, but it can remove more: period(“.”), comma (“,”), semicolon (“;”), and colon (“:”).\n",
    "\n",
    "(e) Count the number of vowels in each of the sentences. Print out each vowel and the occurrences  in the each of the two sentences separately, such as:\n",
    "\n",
    "Sentence1: a:2, e:2, i:0, etc.\n",
    "Sentence2: a:1, e:2, i:2, etc.\n",
    "\n",
    "Design a well-structured Python program to execute these tasks efficiently."
   ]
  },
  {
   "cell_type": "code",
   "execution_count": null,
   "metadata": {
    "colab": {
     "base_uri": "https://localhost:8080/"
    },
    "id": "Y0oOSlsOS0cq",
    "outputId": "82d458f1-ae9d-4e5d-cf89-64e1f31e55f5"
   },
   "outputs": [
    {
     "name": "stdout",
     "output_type": "stream",
     "text": [
      "Enter the first sentence: vinnu\n",
      "Enter the second sentence: here\n",
      "\n",
      "(b) List of words from both sentences:\n",
      "['vinnu', 'here']\n",
      "\n",
      "(c) Common words in both sentences:\n",
      "[]\n",
      "\n",
      "(d) Sanitized Sentences:\n",
      "Sentence 1: vinnu\n",
      "Sentence 2: here\n",
      "\n",
      "(e) Vowel Counts:\n",
      "Sentence 1: a:0, e:0, i:1, o:0, u:1, \n",
      "Sentence 2: a:0, e:2, i:0, o:0, u:0, \n"
     ]
    }
   ],
   "source": [
    "import string\n",
    "\n",
    "def get_sentences():\n",
    "    # (a) Prompt the user to input two sentences.\n",
    "    sentence1 = input(\"Enter the first sentence: \")\n",
    "    sentence2 = input(\"Enter the second sentence: \")\n",
    "    return sentence1, sentence2\n",
    "\n",
    "def sentences_to_word_lists(sentence1, sentence2):\n",
    "    # (b) Transform each sentence into a list of words.\n",
    "    words1 = sentence1.split()\n",
    "    words2 = sentence2.split()\n",
    "    return words1 + words2\n",
    "\n",
    "def common_words(words1, words2):\n",
    "    # (c) Compare the two sentences and print common words.\n",
    "    common = set(words1) & set(words2)\n",
    "    return list(common)\n",
    "\n",
    "def remove_punctuation(sentence):\n",
    "    # (d) Remove punctuation from sentences and print sanitized sentences.\n",
    "    translator = str.maketrans(\"\", \"\", string.punctuation)\n",
    "    return sentence.translate(translator)\n",
    "\n",
    "def count_vowels(sentence):\n",
    "    # (e) Count the number of vowels in each sentence and print the occurrences.\n",
    "    vowels = \"aeiou\"\n",
    "    count = {vowel: sentence.lower().count(vowel) for vowel in vowels}\n",
    "    return count\n",
    "\n",
    "def print_vowel_counts(counts, sentence_name):\n",
    "    print(f\"{sentence_name}: \", end=\"\")\n",
    "    for vowel, occurrence in counts.items():\n",
    "        print(f\"{vowel}:{occurrence}, \", end=\"\")\n",
    "    print()\n",
    "\n",
    "def main():\n",
    "    # (a) Prompt the user to input two sentences.\n",
    "    sentence1, sentence2 = get_sentences()\n",
    "\n",
    "    # (b) Transform each sentence into a list of words.\n",
    "    words_list = sentences_to_word_lists(sentence1, sentence2)\n",
    "    print(\"\\n(b) List of words from both sentences:\")\n",
    "    print(words_list)\n",
    "\n",
    "    # (c) Compare the two sentences and print common words.\n",
    "    common_words_list = common_words(sentence1.split(), sentence2.split())\n",
    "    print(\"\\n(c) Common words in both sentences:\")\n",
    "    print(common_words_list)\n",
    "\n",
    "    # (d) Remove punctuation from sentences and print sanitized sentences.\n",
    "    sentence1_sanitized = remove_punctuation(sentence1)\n",
    "    sentence2_sanitized = remove_punctuation(sentence2)\n",
    "    print(\"\\n(d) Sanitized Sentences:\")\n",
    "    print(\"Sentence 1:\", sentence1_sanitized)\n",
    "    print(\"Sentence 2:\", sentence2_sanitized)\n",
    "\n",
    "    # (e) Count the number of vowels in each sentence and print the occurrences.\n",
    "    vowel_counts_sentence1 = count_vowels(sentence1)\n",
    "    vowel_counts_sentence2 = count_vowels(sentence2)\n",
    "    print(\"\\n(e) Vowel Counts:\")\n",
    "    print_vowel_counts(vowel_counts_sentence1, \"Sentence 1\")\n",
    "    print_vowel_counts(vowel_counts_sentence2, \"Sentence 2\")\n",
    "\n",
    "if __name__ == \"__main__\":\n",
    "    main()\n"
   ]
  },
  {
   "cell_type": "markdown",
   "metadata": {
    "id": "OP4-5qxAtInv"
   },
   "source": [
    "# Question 4 (20 Points)"
   ]
  },
  {
   "cell_type": "markdown",
   "metadata": {
    "id": "uzN4_hDptK9U"
   },
   "source": [
    "Design and implement a simple command-line calculator program. The program should handle both integers and floating-point numbers.\n",
    "\n",
    "(a) Write program that takes a mathematical expression as input and evaluates it. The program should support addition, subtraction, multiplication, and division.\n",
    "\n",
    "(b) Extend the calculator to handle parentheses in mathematical expressions. Implement the necessary logic to evaluate expressions with nested parentheses.\n",
    "\n",
    "(c) Enhance your calculator to include additional mathematical operations such as exponentiation, square root, and modulus.\n",
    "\n",
    "(d) Implement error handling in the calculator program. Handle cases such as division by zero and invalid input expressions. Provide meaningful error messages.\n",
    "\n",
    "(e) Implement a command to exit the calculator."
   ]
  },
  {
   "cell_type": "code",
   "execution_count": 1,
   "metadata": {
    "colab": {
     "base_uri": "https://localhost:8080/"
    },
    "id": "8nQnVxjJuYtu",
    "outputId": "6d9644c7-f5b9-47b4-f2f9-2fb90c5ca83c"
   },
   "outputs": [
    {
     "name": "stdout",
     "output_type": "stream",
     "text": [
      "Simple CLI Calculator\n",
      "Type 'exit' to quit.\n",
      "Enter expression: 3\n",
      "Result: 3\n",
      "Enter expression: 3+4\n",
      "Result: 7\n",
      "Enter expression: 3*5\n",
      "Result: 15\n",
      "Enter expression: 3/5\n",
      "Result: 0.6\n",
      "Enter expression: 3-1\n",
      "Result: 2\n",
      "Enter expression: exit\n",
      "Exiting calculator.\n"
     ]
    },
    {
     "ename": "SystemExit",
     "evalue": "",
     "output_type": "error",
     "traceback": [
      "An exception has occurred, use %tb to see the full traceback.\n",
      "\u001b[1;31mSystemExit\u001b[0m\n"
     ]
    },
    {
     "name": "stderr",
     "output_type": "stream",
     "text": [
      "D:\\conda\\Lib\\site-packages\\IPython\\core\\interactiveshell.py:3534: UserWarning: To exit: use 'exit', 'quit', or Ctrl-D.\n",
      "  warn(\"To exit: use 'exit', 'quit', or Ctrl-D.\", stacklevel=1)\n"
     ]
    }
   ],
   "source": [
    "import math\n",
    "import sys\n",
    "\n",
    "def calculate(expression):\n",
    "    try:\n",
    "        # Handling square root, exponentiation, and modulus with replacement\n",
    "        expression = expression.replace('^', '**')\n",
    "        if 'sqrt' in expression:\n",
    "            expression = expression.replace('sqrt', 'math.sqrt')\n",
    "        if '%' in expression:\n",
    "            expression = expression.replace('%', '/100')\n",
    "        result = eval(expression)\n",
    "        print(\"Result:\", result)\n",
    "    except ZeroDivisionError:\n",
    "        print(\"Error: Division by zero.\")\n",
    "    except Exception as e:\n",
    "        print(f\"Error: Invalid input ({e}).\")\n",
    "\n",
    "print(\"Simple CLI Calculator\")\n",
    "print(\"Type 'exit' to quit.\")\n",
    "\n",
    "while True:\n",
    "    exp = input(\"Enter expression: \")\n",
    "    if exp == 'exit':\n",
    "        print(\"Exiting calculator.\")\n",
    "        sys.exit()\n",
    "    else:\n",
    "        calculate(exp)\n"
   ]
  },
  {
   "cell_type": "code",
   "execution_count": null,
   "metadata": {},
   "outputs": [],
   "source": []
  },
  {
   "cell_type": "markdown",
   "metadata": {
    "id": "z3tBE7E-Xn5X"
   },
   "source": [
    "# Question 5 (30 points).\n",
    "\n",
    "In the field of Data Science, data is often formatted as a comma-delimited (CSV) file, where each line in a file corresponds to a field's value. Refer to Chapter 9 (p. 106) for more information on comma-delimited files.\n",
    "\n",
    "To answer this question, you will need to download the file [Assignment1_denton_housing.csv](https://raw.githubusercontent.com/unt-iialab/info5731-spring2022/main/assignments/Assignment1_denton_housing.csv) included with this assignment. The file contains statistics about housing in the city of Denton from 2008 to 2014. Write a program to implement the following questions.\n",
    "\n",
    "(a) (5 pts) Calculate the difference in the number of Occupied Housing Units from year to year and print it. The difference must be calculated for the consecutive years such as 2008-2009, 2009-2010 etc. Finally, print the values in the ascending order.\n",
    "\n",
    "(b) (5 pts) For all the years, calculate the percentage of housing units which are vacant an occupied. Print the results in the following format:\n",
    "\n",
    "Year Vacant Housing Units Occupied Housing Units\n",
    "\n",
    "    2008  30%   70%                          \n",
    "\t2009 ----- -----\n",
    "\t2010 ----- -----\n",
    "    2011 ----- -----\n",
    "\t2012 ----- -----\n",
    "    2013 ----- -----\n",
    "\t2014 ----- -----\n",
    "  \n",
    "  \n",
    "\n",
    "(c) (10 pts) Calculate and print the valued and years in which the highest number of housing units were vacant and occupied. Print the results in the following format:  \n",
    "\n",
    "                              Year\tValue\n",
    "\tVacant Housing Units\t  -----   -----\n",
    "\tOccupied Housing Units\t-----   -----\n",
    "\n",
    "(d) (10 pts) Calculate the harmonic mean of the total housing units and print it out. You can find the information about harmonic mean here: https://ncalculators.com/statistics/harmonic-mean-calculator.htm"
   ]
  },
  {
   "cell_type": "code",
   "execution_count": 4,
   "metadata": {
    "colab": {
     "base_uri": "https://localhost:8080/"
    },
    "id": "lqGYuHBhcsRH",
    "outputId": "53bbc54d-2a6c-4ae5-ca37-feca042c02b0"
   },
   "outputs": [
    {
     "name": "stdout",
     "output_type": "stream",
     "text": [
      "Yearly Occupied Units Difference: -795.0\n",
      "-303.0\n",
      "1404.0\n",
      "1565.0\n",
      "2622.0\n",
      "5091.0\n",
      "\n",
      "Vacant and Occupied %:\n",
      " title_field    Vacant%  Occupied%\n",
      "year                             \n",
      "2008         10.882653  89.117347\n",
      "2009          9.071116  90.928884\n",
      "2010          8.142556  91.857444\n",
      "2011          9.379522  90.620478\n",
      "2012          6.677600  93.322400\n",
      "2013          8.801788  91.198212\n",
      "2014          5.730111  94.269889\n",
      "\n",
      "Max Vacant: Year 2008, Units 4483\n",
      "Max Occupied: Year 2014, Units 46295\n",
      "\n",
      "Harmonic Mean of Total Units: 44398.28543969185\n"
     ]
    }
   ],
   "source": [
    "import pandas as pd\n",
    "from scipy.stats import hmean\n",
    "\n",
    "def analyze_housing(fp):\n",
    "    data = pd.read_csv(fp)\n",
    "    occupied = data.query(\"title_field == 'Occupied Housing Units'\").sort_values('year')\n",
    "    occupied_diff = occupied['value'].diff().dropna()\n",
    "    print(\"Yearly Occupied Units Difference:\", occupied_diff.sort_values().to_string(index=False))\n",
    "    \n",
    "    pivot = data.pivot_table('value', 'year', 'title_field', aggfunc='first')\n",
    "    pivot['Vacant%'] = pivot['Vacant Housing Units'] / pivot['Total Housing Units'] * 100\n",
    "    pivot['Occupied%'] = pivot['Occupied Housing Units'] / pivot['Total Housing Units'] * 100\n",
    "    print(\"\\nVacant and Occupied %:\\n\", pivot[['Vacant%', 'Occupied%']])\n",
    "    \n",
    "    max_vacant = pivot['Vacant Housing Units'].idxmax(), pivot['Vacant Housing Units'].max()\n",
    "    max_occupied = pivot['Occupied Housing Units'].idxmax(), pivot['Occupied Housing Units'].max()\n",
    "    print(f\"\\nMax Vacant: Year {max_vacant[0]}, Units {max_vacant[1]}\")\n",
    "    print(f\"Max Occupied: Year {max_occupied[0]}, Units {max_occupied[1]}\")\n",
    "    \n",
    "    h_mean = hmean(pivot['Total Housing Units'])\n",
    "    print(f\"\\nHarmonic Mean of Total Units: {h_mean}\")\n",
    "\n",
    "file_path = \"Assignment1_denton_housing.csv\"\n",
    "analyze_housing(file_path)\n"
   ]
  },
  {
   "cell_type": "markdown",
   "metadata": {
    "id": "q8BFCvWp32cf"
   },
   "source": [
    "# Mandatory Question\n",
    "\n",
    "Provide your thoughts on the assignment. What did you find challenging, and what aspects did you enjoy? Your opinion on the provided time to complete the assignment. Share any suggestions for improvement. Your feedback will be valuable for enhancing the learning experience."
   ]
  },
  {
   "cell_type": "markdown",
   "metadata": {
    "id": "_e557s2w4BpK"
   },
   "source": [
    "# Write your response below\n",
    "This assignment effectively combined practical data analysis with programming challenges, offering a great learning experience. The balance between complexity and achievability was appreciated."
   ]
  }
 ],
 "metadata": {
  "colab": {
   "provenance": []
  },
  "kernelspec": {
   "display_name": "Python 3 (ipykernel)",
   "language": "python",
   "name": "python3"
  },
  "language_info": {
   "codemirror_mode": {
    "name": "ipython",
    "version": 3
   },
   "file_extension": ".py",
   "mimetype": "text/x-python",
   "name": "python",
   "nbconvert_exporter": "python",
   "pygments_lexer": "ipython3",
   "version": "3.11.5"
  }
 },
 "nbformat": 4,
 "nbformat_minor": 1
}
