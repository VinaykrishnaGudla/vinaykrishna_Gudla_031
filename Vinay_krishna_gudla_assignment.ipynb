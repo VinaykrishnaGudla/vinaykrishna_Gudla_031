{
  "cells": [
    {
      "cell_type": "markdown",
      "metadata": {
        "id": "view-in-github"
      },
      "source": [
        "<a href=\"https://colab.research.google.com/github/unt-iialab/INFO5731_Spring2020/blob/master/Assignments/INFO5731_Assignment_One.ipynb\" target=\"_parent\"><img src=\"https://colab.research.google.com/assets/colab-badge.svg\" alt=\"Open In Colab\"/></a>"
      ]
    },
    {
      "cell_type": "markdown",
      "metadata": {
        "id": "Ryk8D1Q4Wsrp"
      },
      "source": [
        "# **INFO5731 Assignment One**"
      ]
    },
    {
      "cell_type": "markdown",
      "source": [
        "This assignment includes range of programming tasks and data analysis exercises, aiming to enhance your Python skills and proficiency in string manipulation, numerical computations, and data science. Follow the instructions carefully and design well-structured Python programs to address each question.\n",
        "\n",
        "Late Submission will have a penalty of 10% reduction for each day after the deadline."
      ],
      "metadata": {
        "id": "qcP6re2g5A5r"
      }
    },
    {
      "cell_type": "markdown",
      "metadata": {
        "id": "JkzR8cFAyGik"
      },
      "source": [
        "# Question 1 (10 points).\n",
        "\n",
        "The formula that describes the volume V of a hemisphere with radius r is the following:\n",
        "\n",
        "$ V=\\frac{2}{3}\\ast\\ \\pi\\ast\\ r^3 $\n",
        "\n",
        "Write a program to calculate the value of V when r is in the range of even numbers from 1-20. Output the result in the following format:\n",
        "\n",
        "\tr\tV\n",
        "\t2\t…\n",
        "\t4\t…\n",
        "\t6\t…\n",
        "\t.\n",
        "\t.\n",
        "\t.\n",
        "\t20\t…\n"
      ]
    },
    {
      "cell_type": "code",
      "execution_count": null,
      "metadata": {
        "id": "jDyTKYs-yGit",
        "colab": {
          "base_uri": "https://localhost:8080/"
        },
        "outputId": "70ad88da-d09d-4513-c5fa-f8e6123cf0d7"
      },
      "outputs": [
        {
          "output_type": "stream",
          "name": "stdout",
          "text": [
            "The volume of the hemisphere with radius 2 is 16.76\n",
            "The volume of the hemisphere with radius 4 is 134.04\n",
            "The volume of the hemisphere with radius 6 is 452.39\n",
            "The volume of the hemisphere with radius 8 is 1072.33\n",
            "The volume of the hemisphere with radius 10 is 2094.40\n",
            "The volume of the hemisphere with radius 12 is 3619.11\n",
            "The volume of the hemisphere with radius 14 is 5747.02\n",
            "The volume of the hemisphere with radius 16 is 8578.64\n",
            "The volume of the hemisphere with radius 18 is 12214.51\n",
            "The volume of the hemisphere with radius 20 is 16755.16\n"
          ]
        }
      ],
      "source": [
        "# Your code here\n",
        "\n",
        "\n",
        "# Importing libraries and packages\n",
        "\n",
        "import math\n",
        "\n",
        "# Defining a function to calculate volume for the given range\n",
        "\n",
        "def volumne_for_even_numbers(radius):\n",
        "    return (2/3) * math.pi * (radius ** 3)\n",
        "\n",
        "# Looping the values and calculating the volumne for each\n",
        "\n",
        "for radius in range(2, 21, 2): # Considering 20 as well within the range\n",
        "    volume = volumne_for_even_numbers(radius)\n",
        "    print(f\"The volume of the hemisphere with radius {radius} is {volume:.2f}\")"
      ]
    },
    {
      "cell_type": "markdown",
      "metadata": {
        "id": "90_NR8c5XGWc"
      },
      "source": [
        "# Question 2 (20 points)\n",
        "\n",
        "(a) Write a Python program to generate a sequence of 12 random numbers falling within the range of 50 to 150.\n",
        "\n",
        "(b) Arrange the generated numbers in ascending order. Display the sorted list.\n",
        "\n",
        "(c) Extend the program to arrange the numbers in descending order as well. Present the sorted list accordingly.\n",
        "\n",
        "(d) Compute and output the average of the entire group of generated numbers.\n",
        "\n",
        "(e) Enhance the program to calculate and display the average of the first 6 numbers from both the ascending and descending sorted lists."
      ]
    },
    {
      "cell_type": "markdown",
      "source": [
        "# (a) Generate a sequence of 12 random numbers falling within the range of 50 to 150."
      ],
      "metadata": {
        "id": "R83hVucNXOsP"
      }
    },
    {
      "cell_type": "code",
      "source": [
        "# importing necessary libraries\n",
        "\n",
        "import random\n",
        "\n",
        "random.seed(123)\n",
        "\n",
        "random_sequence_list = []\n",
        "\n",
        "for i in range(12):\n",
        "    random_sequence_list.append(random.randint(50, 150))\n",
        "\n",
        "print(\"12 Generated random numbers sequence within the range of 50 to 150 is :\", random_sequence_list)"
      ],
      "metadata": {
        "colab": {
          "base_uri": "https://localhost:8080/"
        },
        "id": "5qW3hh5nXBTl",
        "outputId": "377953b6-f299-4f63-e4b6-4dd891718ac2"
      },
      "execution_count": null,
      "outputs": [
        {
          "output_type": "stream",
          "name": "stdout",
          "text": [
            "12 Generated random numbers sequence within the range of 50 to 150 is : [56, 84, 61, 148, 102, 84, 63, 54, 98, 118, 121, 92]\n"
          ]
        }
      ]
    },
    {
      "cell_type": "markdown",
      "source": [
        "# (b) Arrange the generated numbers in ascending order and display the sorted list."
      ],
      "metadata": {
        "id": "iEZ2m9FgYD89"
      }
    },
    {
      "cell_type": "code",
      "source": [
        "sorted_ascending_list = sorted(random_sequence_list)\n",
        "\n",
        "print(\"generated numers Sorted in ascending order:\", sorted_ascending_list)"
      ],
      "metadata": {
        "colab": {
          "base_uri": "https://localhost:8080/"
        },
        "id": "-YUeNgRQXBVP",
        "outputId": "7dc3d830-cc29-4167-e359-d1a56a1ac232"
      },
      "execution_count": null,
      "outputs": [
        {
          "output_type": "stream",
          "name": "stdout",
          "text": [
            "generated numers Sorted in ascending order: [54, 56, 61, 63, 84, 84, 92, 98, 102, 118, 121, 148]\n"
          ]
        }
      ]
    },
    {
      "cell_type": "markdown",
      "source": [
        "# (c) Arrange the numbers in descending order and display the sorted list."
      ],
      "metadata": {
        "id": "K7St3lgIZWBy"
      }
    },
    {
      "cell_type": "code",
      "source": [
        "sorted_descending_list = sorted(random_sequence_list,reverse=True)\n",
        "\n",
        "print(\"generated numers Sorted in Descending order:\", sorted_descending_list)"
      ],
      "metadata": {
        "colab": {
          "base_uri": "https://localhost:8080/"
        },
        "id": "GTYw31fcXBa1",
        "outputId": "bcb38566-b8ae-4627-ef19-aa587234c046"
      },
      "execution_count": null,
      "outputs": [
        {
          "output_type": "stream",
          "name": "stdout",
          "text": [
            "generated numers Sorted in Descending order: [148, 121, 118, 102, 98, 92, 84, 84, 63, 61, 56, 54]\n"
          ]
        }
      ]
    },
    {
      "cell_type": "markdown",
      "source": [
        "# (d) Compute and output the average of the entire group of generated numbers."
      ],
      "metadata": {
        "id": "nhGNLBL_Zkrv"
      }
    },
    {
      "cell_type": "code",
      "source": [
        "output_average = sum(random_sequence_list) / len(random_sequence_list)\n",
        "\n",
        "print(\"Average of the entire group of generate random sequece is :\", output_average)"
      ],
      "metadata": {
        "colab": {
          "base_uri": "https://localhost:8080/"
        },
        "id": "ow8rdNbSXBcX",
        "outputId": "81c1791d-7dda-4250-9409-2ec133703162"
      },
      "execution_count": null,
      "outputs": [
        {
          "output_type": "stream",
          "name": "stdout",
          "text": [
            "Average of the entire group of generate random sequece is : 90.08333333333333\n"
          ]
        }
      ]
    },
    {
      "cell_type": "markdown",
      "source": [
        "# (e) Compute and display the average of the first 6 numbers from both the ascending and descending sorted lists."
      ],
      "metadata": {
        "id": "4qnS2Lo9Z6Ys"
      }
    },
    {
      "cell_type": "code",
      "source": [
        "acending_average_first_six_numbers_in_the_list = sum(sorted_ascending_list[:6]) / 6\n",
        "\n",
        "desccending_average_first_six_numbers_in_the_list = sum(sorted_descending_list[:6]) / 6\n",
        "\n",
        "print(\"Average of the first 6 numbers in ascending order sorted list is :\", acending_average_first_six_numbers_in_the_list)\n",
        "print(\"Average of the first 6 numbers in descending order sorted list is :\", desccending_average_first_six_numbers_in_the_list)"
      ],
      "metadata": {
        "colab": {
          "base_uri": "https://localhost:8080/"
        },
        "id": "m2IooLvrXBvr",
        "outputId": "b9e97648-3ca8-4f38-e473-b93b737e36be"
      },
      "execution_count": null,
      "outputs": [
        {
          "output_type": "stream",
          "name": "stdout",
          "text": [
            "Average of the first 6 numbers in ascending order sorted list is : 67.0\n",
            "Average of the first 6 numbers in descending order sorted list is : 113.16666666666667\n"
          ]
        }
      ]
    },
    {
      "cell_type": "markdown",
      "metadata": {
        "id": "1F_PZdH9Sh49"
      },
      "source": [
        "# Question 3 (20 points).\n",
        "\n",
        "Create a Python program that encompasses various string manipulation task:\n",
        "\n",
        "(a) Prompt the user to input two sentences.\n",
        "\n",
        "(b) Transform each sentence into a list, where each element corresponds to a word in the sentence. For example, if the sentences are \"Hello, how are you doing today?\" and \"This is an example sentence for the program!\"\n",
        "\n",
        "The program should output:\n",
        "['Hello', ',', 'how', 'are', 'you', 'doing', 'today', '?', 'This', 'is', 'an', 'example', 'sentence', 'for', 'the', 'program', '!']\n",
        "\n",
        "(c) Compare the two sentences. Print out a list of words that occur in both sentences.\n",
        "\n",
        "(d) Remove any punctuation from the sentence and print the sanitized sentences. It should remove at least the following characters, but it can remove more: period(“.”), comma (“,”), semicolon (“;”), and colon (“:”).\n",
        "\n",
        "(e) Count the number of vowels in each of the sentences. Print out each vowel and the occurrences  in the each of the two sentences separately, such as:\n",
        "\n",
        "Sentence1: a:2, e:2, i:0, etc.\n",
        "Sentence2: a:1, e:2, i:2, etc.\n",
        "\n",
        "Design a well-structured Python program to execute these tasks efficiently."
      ]
    },
    {
      "cell_type": "markdown",
      "source": [
        "(a) Prompt the user to input two sentences."
      ],
      "metadata": {
        "id": "8lQFaph4axc0"
      }
    },
    {
      "cell_type": "code",
      "execution_count": null,
      "metadata": {
        "id": "Y0oOSlsOS0cq",
        "colab": {
          "base_uri": "https://localhost:8080/"
        },
        "outputId": "c29ffa7c-60aa-4522-a0ee-10e7928787a3"
      },
      "outputs": [
        {
          "name": "stdout",
          "output_type": "stream",
          "text": [
            "Enter the first sentence: Hello  how are yout today ? this is an exaple sentence for program\n",
            "Enter the second sentence: Hello can u seee sentence 2 as well ? ! \n"
          ]
        }
      ],
      "source": [
        "# Your code here\n",
        "\n",
        "# Prompting for user to enter two input sentences\n",
        "\n",
        "sentence_1 = input(\"Enter the first sentence: \")\n",
        "sentence_2 = input(\"Enter the second sentence: \")"
      ]
    },
    {
      "cell_type": "markdown",
      "source": [
        "\n",
        "(b) Transform each sentence into a list, where each element corresponds to a word in the sentence. For example, if the sentences are \"Hello, how are you doing today?\" and \"This is an example sentence for the program!\"\n",
        "\n",
        "The program should output:\n",
        "['Hello', ',', 'how', 'are', 'you', 'doing', 'today', '?', 'This', 'is', 'an', 'example', 'sentence', 'for', 'the', 'program', '!']"
      ],
      "metadata": {
        "id": "_fDaV8KNaxlb"
      }
    },
    {
      "cell_type": "code",
      "source": [
        "list_words_1 = sentence_1.split()\n",
        "list_words_2= sentence_2.split()"
      ],
      "metadata": {
        "id": "Am-GukSlbmH_"
      },
      "execution_count": null,
      "outputs": []
    },
    {
      "cell_type": "code",
      "source": [
        "list_words_1"
      ],
      "metadata": {
        "colab": {
          "base_uri": "https://localhost:8080/"
        },
        "id": "096K6Jtibyt_",
        "outputId": "6f926176-79fd-4a68-c994-6b17c0e91013"
      },
      "execution_count": null,
      "outputs": [
        {
          "output_type": "execute_result",
          "data": {
            "text/plain": [
              "['Hello',\n",
              " 'how',\n",
              " 'are',\n",
              " 'yout',\n",
              " 'today',\n",
              " '?',\n",
              " 'this',\n",
              " 'is',\n",
              " 'an',\n",
              " 'exaple',\n",
              " 'sentence',\n",
              " 'for',\n",
              " 'program']"
            ]
          },
          "metadata": {},
          "execution_count": 21
        }
      ]
    },
    {
      "cell_type": "code",
      "source": [
        "list_words_2"
      ],
      "metadata": {
        "colab": {
          "base_uri": "https://localhost:8080/"
        },
        "id": "7E8lwLSRcOiA",
        "outputId": "4ce23d5f-1e13-4bd7-c4a8-e4429b68433d"
      },
      "execution_count": null,
      "outputs": [
        {
          "output_type": "execute_result",
          "data": {
            "text/plain": [
              "['Hello', 'can', 'u', 'seee', 'sentence', '2', 'as', 'well', '?', '!']"
            ]
          },
          "metadata": {},
          "execution_count": 22
        }
      ]
    },
    {
      "cell_type": "markdown",
      "source": [
        "\n",
        "(c) Compare the two sentences. Print out a list of words that occur in both sentences."
      ],
      "metadata": {
        "id": "Uq-1-TZpaxna"
      }
    },
    {
      "cell_type": "code",
      "source": [
        "# Consdiering the splitted sentences to see the common words\n",
        "\n",
        "common_words_in_both_sentences = list(set(list_words_1) & set(list_words_2))\n",
        "\n",
        "print(\"\\nCommon words in both sentences are :\")\n",
        "\n",
        "print(common_words_in_both_sentences)"
      ],
      "metadata": {
        "colab": {
          "base_uri": "https://localhost:8080/"
        },
        "id": "K40QZMSmcVsi",
        "outputId": "904e6239-1f60-4fb2-a9d0-51a97cf14982"
      },
      "execution_count": null,
      "outputs": [
        {
          "output_type": "stream",
          "name": "stdout",
          "text": [
            "\n",
            "Common words in both sentences are :\n",
            "['sentence', '?', 'Hello']\n"
          ]
        }
      ]
    },
    {
      "cell_type": "markdown",
      "source": [
        "(d) Remove any punctuation from the sentence and print the sanitized sentences. It should remove at least the following characters, but it can remove more: period(“.”), comma (“,”), semicolon (“;”), and colon (“:”)."
      ],
      "metadata": {
        "id": "FFo_AKukaxrt"
      }
    },
    {
      "cell_type": "code",
      "source": [
        "# importing necessary libraries\n",
        "\n",
        "import re\n",
        "\n",
        "# Defining a regex pattern to match all those punctuation , comma , semicolon and colon and any other charaacter that is not a word\n",
        "\n",
        "punctuation_pattern = r'[^\\w\\s]'\n",
        "\n",
        "# Removing punctuation from the sentences using regex\n",
        "\n",
        "sanitized_sentence_1 = re.sub(punctuation_pattern, '', sentence_1)\n",
        "\n",
        "sanitized_sentence_2 = re.sub(punctuation_pattern, '', sentence_2)\n",
        "\n",
        "# Printing the sanitized sentences\n",
        "print(\"\\nSanitized sentences:\")\n",
        "print(\"Sentence 1:\", sanitized_sentence_1)\n",
        "print(\"Sentence 2:\", sanitized_sentence_2)"
      ],
      "metadata": {
        "colab": {
          "base_uri": "https://localhost:8080/"
        },
        "id": "4tYrFvo5dS2Z",
        "outputId": "730bda46-b607-40b2-ee4e-2ea545bd91cf"
      },
      "execution_count": null,
      "outputs": [
        {
          "output_type": "stream",
          "name": "stdout",
          "text": [
            "\n",
            "Sanitized sentences:\n",
            "Sentence 1: Hello  how are yout today  this is an exaple sentence for program\n",
            "Sentence 2: Hello can u seee sentence 2 as well   \n"
          ]
        }
      ]
    },
    {
      "cell_type": "markdown",
      "source": [
        "\n",
        "(e) Count the number of vowels in each of the sentences. Print out each vowel and the occurrences  in the each of the two sentences separately, such as:\n",
        "\n",
        "Sentence1: a:2, e:2, i:0, etc.\n",
        "Sentence2: a:1, e:2, i:2, etc."
      ],
      "metadata": {
        "id": "_dA6ECsba_50"
      }
    },
    {
      "cell_type": "code",
      "source": [
        "# Defining vowels\n",
        "\n",
        "vowels = 'aeiou'\n",
        "\n",
        "vowel_count_1 = {vowel: 0 for vowel in vowels}\n",
        "\n",
        "vowel_count_2 = {vowel: 0 for vowel in vowels}\n",
        "\n",
        "for char in sentence_1:\n",
        "    if char.lower() in vowels:\n",
        "        vowel_count_1[char.lower()] += 1\n",
        "for char in sentence_2:\n",
        "    if char.lower() in vowels:\n",
        "        vowel_count_2[char.lower()] += 1\n",
        "print(\"\\nVowel counts:\")\n",
        "print(\"For Sentence 1:\", vowel_count_1)\n",
        "print(\"For Sentence 2:\", vowel_count_2)"
      ],
      "metadata": {
        "colab": {
          "base_uri": "https://localhost:8080/"
        },
        "id": "pNO875SQd4Tj",
        "outputId": "774aa480-4e68-4f0e-9134-992eb2591f72"
      },
      "execution_count": null,
      "outputs": [
        {
          "output_type": "stream",
          "name": "stdout",
          "text": [
            "\n",
            "Vowel counts:\n",
            "For Sentence 1: {'a': 5, 'e': 7, 'i': 2, 'o': 6, 'u': 1}\n",
            "For Sentence 2: {'a': 2, 'e': 8, 'i': 0, 'o': 1, 'u': 1}\n"
          ]
        }
      ]
    },
    {
      "cell_type": "markdown",
      "source": [
        "# Question 4 (20 Points)"
      ],
      "metadata": {
        "id": "OP4-5qxAtInv"
      }
    },
    {
      "cell_type": "markdown",
      "source": [
        "Design and implement a simple command-line calculator program. The program should handle both integers and floating-point numbers.\n",
        "\n",
        "(a) Write program that takes a mathematical expression as input and evaluates it. The program should support addition, subtraction, multiplication, and division.\n",
        "\n",
        "(b) Extend the calculator to handle parentheses in mathematical expressions. Implement the necessary logic to evaluate expressions with nested parentheses.\n",
        "\n",
        "(c) Enhance your calculator to include additional mathematical operations such as exponentiation, square root, and modulus.\n",
        "\n",
        "(d) Implement error handling in the calculator program. Handle cases such as division by zero and invalid input expressions. Provide meaningful error messages.\n",
        "\n",
        "(e) Implement a command to exit the calculator."
      ],
      "metadata": {
        "id": "uzN4_hDptK9U"
      }
    },
    {
      "cell_type": "markdown",
      "source": [
        "(a) Write program that takes a mathematical expression as input and evaluates it. The program should support addition, subtraction, multiplication, and division."
      ],
      "metadata": {
        "id": "LyasB9AfiLS-"
      }
    },
    {
      "cell_type": "code",
      "source": [
        "import re\n",
        "import math\n",
        "\n",
        "print(\"Simple Command-Line Calculator\")\n",
        "print(\"Enter 'exit' to quit.\")\n",
        "\n",
        "while True:\n",
        "    mathemetical_expression = input(\"Enter an mathemetical valid expression: \")\n",
        "\n",
        "    # Check if the user wants to exit\n",
        "    try:\n",
        "\n",
        "      if mathemetical_expression.lower() == 'exit':\n",
        "        print(\"Goodbye!\")\n",
        "        break\n",
        "\n",
        "        result = calculate(expression)\n",
        "        print(\"Result:\", result)\n",
        "    except Exception as e:\n",
        "        print(\"Error:\", e)"
      ],
      "metadata": {
        "colab": {
          "base_uri": "https://localhost:8080/"
        },
        "id": "CAHc9GFxhF7g",
        "outputId": "e1cc905c-18f4-478e-fe0c-fce041d27057"
      },
      "execution_count": null,
      "outputs": [
        {
          "name": "stdout",
          "output_type": "stream",
          "text": [
            "Simple Command-Line Calculator\n",
            "Enter 'exit' to quit.\n",
            "Enter an mathemetical valid expression: 2+3\n"
          ]
        }
      ]
    },
    {
      "cell_type": "code",
      "source": [],
      "metadata": {
        "id": "RJTXXBr1_bNj"
      },
      "execution_count": null,
      "outputs": []
    },
    {
      "cell_type": "markdown",
      "source": [
        "(b) Extend the calculator to handle parentheses in mathematical expressions. Implement the necessary logic to evaluate expressions with nested parentheses."
      ],
      "metadata": {
        "id": "VeISEh_yiNcx"
      }
    },
    {
      "cell_type": "code",
      "source": [
        "import re\n",
        "import math\n",
        "\n",
        "print(\"Simple Command-Line Calculator\")\n",
        "print(\"Enter 'exit' to quit.\")\n",
        "\n",
        "while True:\n",
        "    expression = input(\"Enter an expression: \")\n",
        "\n",
        "    # Check if the user wants to exit\n",
        "    if expression.lower() == 'exit':\n",
        "        print(\"Goodbye!\")\n",
        "        break\n",
        "\n",
        "    try:\n",
        "        # Evaluating the expression\n",
        "        result = eval(expression)\n",
        "        print(\"Result:\", result)\n",
        "    except Exception as e:\n",
        "        print(\"Error:\", e)\n"
      ],
      "metadata": {
        "colab": {
          "base_uri": "https://localhost:8080/"
        },
        "id": "Ybi1AdhnicFk",
        "outputId": "c3a69fe0-b988-411c-a4e5-eec03fea528a"
      },
      "execution_count": 23,
      "outputs": [
        {
          "output_type": "stream",
          "name": "stdout",
          "text": [
            "Simple Command-Line Calculator\n",
            "Enter 'exit' to quit.\n",
            "Enter an expression: 2+2\n",
            "Result: 4\n",
            "Enter an expression: 1-1\n",
            "Result: 0\n",
            "Enter an expression: 3*3\n",
            "Result: 9\n",
            "Enter an expression: 4/2\n",
            "Result: 2.0\n",
            "Enter an expression: exit\n",
            "Goodbye!\n"
          ]
        }
      ]
    },
    {
      "cell_type": "markdown",
      "source": [
        "(c) Enhance your calculator to include additional mathematical operations such as exponentiation, square root, and modulus."
      ],
      "metadata": {
        "id": "u3W5zvf_iRIl"
      }
    },
    {
      "cell_type": "code",
      "source": [
        "import re\n",
        "import math\n",
        "\n",
        "print(\"Simple Command-Line Calculator\")\n",
        "print(\"Enter 'exit' to quit.\")\n",
        "\n",
        "while True:\n",
        "    expression = input(\"Enter an expression: \")\n",
        "\n",
        "    # Check if the user wants to exit\n",
        "    if expression.lower() == 'exit':\n",
        "        print(\"Goodbye!\")\n",
        "        break\n",
        "\n",
        "    try:\n",
        "        # Handle parentheses\n",
        "        while '(' in expression:\n",
        "            expression = re.sub(r'\\(([^()]+)\\)', lambda x: str(eval(x.group(1))), expression)\n",
        "\n",
        "        # Handle exponentiation (^)\n",
        "        expression = expression.replace(\"^\", \"**\")\n",
        "\n",
        "        expression = re.sub(r'sqrt\\(([^()]+)\\)', lambda x: str(math.sqrt(float(eval(x.group(1))))), expression)\n",
        "\n",
        "        # Handle modulus (%)\n",
        "        expression = expression.replace(\"%\", \"/100*\")\n",
        "\n",
        "        # Evaluate the expression\n",
        "        result = eval(expression)\n",
        "\n",
        "        print(\"Result:\", result)\n",
        "\n",
        "    except Exception as e:\n",
        "        print(\"Error:\", e)"
      ],
      "metadata": {
        "colab": {
          "base_uri": "https://localhost:8080/"
        },
        "id": "j21Uvb07j6R_",
        "outputId": "4978ea53-569f-4a7a-eba6-d299271dde9a"
      },
      "execution_count": 26,
      "outputs": [
        {
          "output_type": "stream",
          "name": "stdout",
          "text": [
            "Simple Command-Line Calculator\n",
            "Enter 'exit' to quit.\n",
            "Enter an expression: 5*3\n",
            "Result: 15\n",
            "Enter an expression: 5^3\n",
            "Result: 125\n",
            "Enter an expression: exit\n",
            "Goodbye!\n"
          ]
        }
      ]
    },
    {
      "cell_type": "markdown",
      "source": [
        "(d) Implement error handling in the calculator program. Handle cases such as division by zero and invalid input expressions. Provide meaningful error messages."
      ],
      "metadata": {
        "id": "JjyG07NGiSzD"
      }
    },
    {
      "cell_type": "markdown",
      "source": [
        "\n",
        "(e) Implement a command to exit the calculator."
      ],
      "metadata": {
        "id": "FQsQyfKBiUUQ"
      }
    },
    {
      "cell_type": "code",
      "source": [
        "import re\n",
        "import math\n",
        "\n",
        "print(\"Simple Command-Line Calculator\")\n",
        "print(\"Enter 'exit' to quit.\")\n",
        "\n",
        "while True:\n",
        "    expression = input(\"Enter an expression: \")\n",
        "\n",
        "    # Check if the user wants to exit\n",
        "    if expression.lower() == 'exit':\n",
        "        print(\"Goodbye!\")\n",
        "        break\n",
        "\n",
        "    try:\n",
        "        # Handle parentheses\n",
        "        while '(' in expression:\n",
        "            expression = re.sub(r'\\(([^()]+)\\)', lambda x: str(eval(x.group(1))), expression)\n",
        "\n",
        "        # Handling square root\n",
        "        expression = re.sub(r'sqrt\\(([^()]+)\\)', lambda x: str(math.sqrt(float(x.group(1)))), expression)\n",
        "\n",
        "        # Handling exponentiation\n",
        "        expression = re.sub(r'(\\d+)\\s*\\^\\s*(\\d+)', lambda x: str(int(x.group(1)) ** int(x.group(2))), expression)\n",
        "\n",
        "        # Evaluate the expression\n",
        "        result = eval(expression)\n",
        "\n",
        "        print(\"Result:\", result)\n",
        "    except ZeroDivisionError:\n",
        "        print(\"Error: Division by zero\")\n",
        "    except Exception as e:\n",
        "        print(f\"Error: {e}\")"
      ],
      "metadata": {
        "colab": {
          "base_uri": "https://localhost:8080/",
          "height": 598
        },
        "id": "kDJ6KNs5glCO",
        "outputId": "6e4b0cb7-34f8-4bbe-bbdf-9e4e0d762b7b"
      },
      "execution_count": null,
      "outputs": [
        {
          "output_type": "stream",
          "name": "stdout",
          "text": [
            "Simple Command-Line Calculator\n",
            "Enter 'exit' to quit.\n",
            "Enter an expression: 2/3\n",
            "Result: 0.6666666666666666\n",
            "Enter an expression: 2/0\n",
            "Error: Division by zero\n",
            "Enter an expression: 2**3\n",
            "Result: 8\n",
            "Enter an expression: 33^2\n",
            "Result: 1089\n",
            "Enter an expression: sqrt(16)\n",
            "Error: name 'sqrt16' is not defined\n"
          ]
        },
        {
          "output_type": "error",
          "ename": "KeyboardInterrupt",
          "evalue": "Interrupted by user",
          "traceback": [
            "\u001b[0;31m---------------------------------------------------------------------------\u001b[0m",
            "\u001b[0;31mKeyboardInterrupt\u001b[0m                         Traceback (most recent call last)",
            "\u001b[0;32m<ipython-input-33-44640d06900f>\u001b[0m in \u001b[0;36m<cell line: 7>\u001b[0;34m()\u001b[0m\n\u001b[1;32m      6\u001b[0m \u001b[0;34m\u001b[0m\u001b[0m\n\u001b[1;32m      7\u001b[0m \u001b[0;32mwhile\u001b[0m \u001b[0;32mTrue\u001b[0m\u001b[0;34m:\u001b[0m\u001b[0;34m\u001b[0m\u001b[0;34m\u001b[0m\u001b[0m\n\u001b[0;32m----> 8\u001b[0;31m     \u001b[0mexpression\u001b[0m \u001b[0;34m=\u001b[0m \u001b[0minput\u001b[0m\u001b[0;34m(\u001b[0m\u001b[0;34m\"Enter an expression: \"\u001b[0m\u001b[0;34m)\u001b[0m\u001b[0;34m\u001b[0m\u001b[0;34m\u001b[0m\u001b[0m\n\u001b[0m\u001b[1;32m      9\u001b[0m \u001b[0;34m\u001b[0m\u001b[0m\n\u001b[1;32m     10\u001b[0m     \u001b[0;31m# Check if the user wants to exit\u001b[0m\u001b[0;34m\u001b[0m\u001b[0;34m\u001b[0m\u001b[0m\n",
            "\u001b[0;32m/usr/local/lib/python3.10/dist-packages/ipykernel/kernelbase.py\u001b[0m in \u001b[0;36mraw_input\u001b[0;34m(self, prompt)\u001b[0m\n\u001b[1;32m    849\u001b[0m                 \u001b[0;34m\"raw_input was called, but this frontend does not support input requests.\"\u001b[0m\u001b[0;34m\u001b[0m\u001b[0;34m\u001b[0m\u001b[0m\n\u001b[1;32m    850\u001b[0m             )\n\u001b[0;32m--> 851\u001b[0;31m         return self._input_request(str(prompt),\n\u001b[0m\u001b[1;32m    852\u001b[0m             \u001b[0mself\u001b[0m\u001b[0;34m.\u001b[0m\u001b[0m_parent_ident\u001b[0m\u001b[0;34m,\u001b[0m\u001b[0;34m\u001b[0m\u001b[0;34m\u001b[0m\u001b[0m\n\u001b[1;32m    853\u001b[0m             \u001b[0mself\u001b[0m\u001b[0;34m.\u001b[0m\u001b[0m_parent_header\u001b[0m\u001b[0;34m,\u001b[0m\u001b[0;34m\u001b[0m\u001b[0;34m\u001b[0m\u001b[0m\n",
            "\u001b[0;32m/usr/local/lib/python3.10/dist-packages/ipykernel/kernelbase.py\u001b[0m in \u001b[0;36m_input_request\u001b[0;34m(self, prompt, ident, parent, password)\u001b[0m\n\u001b[1;32m    893\u001b[0m             \u001b[0;32mexcept\u001b[0m \u001b[0mKeyboardInterrupt\u001b[0m\u001b[0;34m:\u001b[0m\u001b[0;34m\u001b[0m\u001b[0;34m\u001b[0m\u001b[0m\n\u001b[1;32m    894\u001b[0m                 \u001b[0;31m# re-raise KeyboardInterrupt, to truncate traceback\u001b[0m\u001b[0;34m\u001b[0m\u001b[0;34m\u001b[0m\u001b[0m\n\u001b[0;32m--> 895\u001b[0;31m                 \u001b[0;32mraise\u001b[0m \u001b[0mKeyboardInterrupt\u001b[0m\u001b[0;34m(\u001b[0m\u001b[0;34m\"Interrupted by user\"\u001b[0m\u001b[0;34m)\u001b[0m \u001b[0;32mfrom\u001b[0m \u001b[0;32mNone\u001b[0m\u001b[0;34m\u001b[0m\u001b[0;34m\u001b[0m\u001b[0m\n\u001b[0m\u001b[1;32m    896\u001b[0m             \u001b[0;32mexcept\u001b[0m \u001b[0mException\u001b[0m \u001b[0;32mas\u001b[0m \u001b[0me\u001b[0m\u001b[0;34m:\u001b[0m\u001b[0;34m\u001b[0m\u001b[0;34m\u001b[0m\u001b[0m\n\u001b[1;32m    897\u001b[0m                 \u001b[0mself\u001b[0m\u001b[0;34m.\u001b[0m\u001b[0mlog\u001b[0m\u001b[0;34m.\u001b[0m\u001b[0mwarning\u001b[0m\u001b[0;34m(\u001b[0m\u001b[0;34m\"Invalid Message:\"\u001b[0m\u001b[0;34m,\u001b[0m \u001b[0mexc_info\u001b[0m\u001b[0;34m=\u001b[0m\u001b[0;32mTrue\u001b[0m\u001b[0;34m)\u001b[0m\u001b[0;34m\u001b[0m\u001b[0;34m\u001b[0m\u001b[0m\n",
            "\u001b[0;31mKeyboardInterrupt\u001b[0m: Interrupted by user"
          ]
        }
      ]
    },
    {
      "cell_type": "code",
      "source": [
        "import re\n",
        "import math\n",
        "\n",
        "print(\"Simple Command-Line Calculator\")\n",
        "print(\"Enter 'exit' to quit.\")\n",
        "\n",
        "while True:\n",
        "    expression = input(\"Enter an expression: \")\n",
        "\n",
        "    # Check if the user wants to exit\n",
        "    if expression.lower() == 'exit':\n",
        "        print(\"Goodbye!\")\n",
        "        break\n",
        "\n",
        "    try:\n",
        "        # Handle parentheses\n",
        "        while '(' in expression:\n",
        "            expression = re.sub(r'\\(([^()]+)\\)', lambda x: str(eval(x.group(1))), expression)\n",
        "\n",
        "        # Evaluate the expression\n",
        "        result = eval(expression)\n",
        "\n",
        "        print(\"Result:\", result)\n",
        "    except ZeroDivisionError:\n",
        "        print(\"Error: Division by zero\")\n",
        "    except Exception as e:\n",
        "        print(f\"Error: {e}\")\n"
      ],
      "metadata": {
        "colab": {
          "base_uri": "https://localhost:8080/",
          "height": 529
        },
        "id": "Xr3kJrL3e_IL",
        "outputId": "e45bd13b-504a-4eb0-b678-c0bf65972c1a"
      },
      "execution_count": null,
      "outputs": [
        {
          "output_type": "stream",
          "name": "stdout",
          "text": [
            "Simple Command-Line Calculator\n",
            "Enter 'exit' to quit.\n",
            "Enter an expression: 4/0\n",
            "Error: Division by zero\n",
            "Enter an expression: 4.2525299qa\n",
            "Error: invalid decimal literal (<string>, line 1)\n",
            "Enter an expression: 2^1\n",
            "Result: 3\n"
          ]
        },
        {
          "output_type": "error",
          "ename": "KeyboardInterrupt",
          "evalue": "Interrupted by user",
          "traceback": [
            "\u001b[0;31m---------------------------------------------------------------------------\u001b[0m",
            "\u001b[0;31mKeyboardInterrupt\u001b[0m                         Traceback (most recent call last)",
            "\u001b[0;32m<ipython-input-32-b186015b85cb>\u001b[0m in \u001b[0;36m<cell line: 7>\u001b[0;34m()\u001b[0m\n\u001b[1;32m      6\u001b[0m \u001b[0;34m\u001b[0m\u001b[0m\n\u001b[1;32m      7\u001b[0m \u001b[0;32mwhile\u001b[0m \u001b[0;32mTrue\u001b[0m\u001b[0;34m:\u001b[0m\u001b[0;34m\u001b[0m\u001b[0;34m\u001b[0m\u001b[0m\n\u001b[0;32m----> 8\u001b[0;31m     \u001b[0mexpression\u001b[0m \u001b[0;34m=\u001b[0m \u001b[0minput\u001b[0m\u001b[0;34m(\u001b[0m\u001b[0;34m\"Enter an expression: \"\u001b[0m\u001b[0;34m)\u001b[0m\u001b[0;34m\u001b[0m\u001b[0;34m\u001b[0m\u001b[0m\n\u001b[0m\u001b[1;32m      9\u001b[0m \u001b[0;34m\u001b[0m\u001b[0m\n\u001b[1;32m     10\u001b[0m     \u001b[0;31m# Check if the user wants to exit\u001b[0m\u001b[0;34m\u001b[0m\u001b[0;34m\u001b[0m\u001b[0m\n",
            "\u001b[0;32m/usr/local/lib/python3.10/dist-packages/ipykernel/kernelbase.py\u001b[0m in \u001b[0;36mraw_input\u001b[0;34m(self, prompt)\u001b[0m\n\u001b[1;32m    849\u001b[0m                 \u001b[0;34m\"raw_input was called, but this frontend does not support input requests.\"\u001b[0m\u001b[0;34m\u001b[0m\u001b[0;34m\u001b[0m\u001b[0m\n\u001b[1;32m    850\u001b[0m             )\n\u001b[0;32m--> 851\u001b[0;31m         return self._input_request(str(prompt),\n\u001b[0m\u001b[1;32m    852\u001b[0m             \u001b[0mself\u001b[0m\u001b[0;34m.\u001b[0m\u001b[0m_parent_ident\u001b[0m\u001b[0;34m,\u001b[0m\u001b[0;34m\u001b[0m\u001b[0;34m\u001b[0m\u001b[0m\n\u001b[1;32m    853\u001b[0m             \u001b[0mself\u001b[0m\u001b[0;34m.\u001b[0m\u001b[0m_parent_header\u001b[0m\u001b[0;34m,\u001b[0m\u001b[0;34m\u001b[0m\u001b[0;34m\u001b[0m\u001b[0m\n",
            "\u001b[0;32m/usr/local/lib/python3.10/dist-packages/ipykernel/kernelbase.py\u001b[0m in \u001b[0;36m_input_request\u001b[0;34m(self, prompt, ident, parent, password)\u001b[0m\n\u001b[1;32m    893\u001b[0m             \u001b[0;32mexcept\u001b[0m \u001b[0mKeyboardInterrupt\u001b[0m\u001b[0;34m:\u001b[0m\u001b[0;34m\u001b[0m\u001b[0;34m\u001b[0m\u001b[0m\n\u001b[1;32m    894\u001b[0m                 \u001b[0;31m# re-raise KeyboardInterrupt, to truncate traceback\u001b[0m\u001b[0;34m\u001b[0m\u001b[0;34m\u001b[0m\u001b[0m\n\u001b[0;32m--> 895\u001b[0;31m                 \u001b[0;32mraise\u001b[0m \u001b[0mKeyboardInterrupt\u001b[0m\u001b[0;34m(\u001b[0m\u001b[0;34m\"Interrupted by user\"\u001b[0m\u001b[0;34m)\u001b[0m \u001b[0;32mfrom\u001b[0m \u001b[0;32mNone\u001b[0m\u001b[0;34m\u001b[0m\u001b[0;34m\u001b[0m\u001b[0m\n\u001b[0m\u001b[1;32m    896\u001b[0m             \u001b[0;32mexcept\u001b[0m \u001b[0mException\u001b[0m \u001b[0;32mas\u001b[0m \u001b[0me\u001b[0m\u001b[0;34m:\u001b[0m\u001b[0;34m\u001b[0m\u001b[0;34m\u001b[0m\u001b[0m\n\u001b[1;32m    897\u001b[0m                 \u001b[0mself\u001b[0m\u001b[0;34m.\u001b[0m\u001b[0mlog\u001b[0m\u001b[0;34m.\u001b[0m\u001b[0mwarning\u001b[0m\u001b[0;34m(\u001b[0m\u001b[0;34m\"Invalid Message:\"\u001b[0m\u001b[0;34m,\u001b[0m \u001b[0mexc_info\u001b[0m\u001b[0;34m=\u001b[0m\u001b[0;32mTrue\u001b[0m\u001b[0;34m)\u001b[0m\u001b[0;34m\u001b[0m\u001b[0;34m\u001b[0m\u001b[0m\n",
            "\u001b[0;31mKeyboardInterrupt\u001b[0m: Interrupted by user"
          ]
        }
      ]
    },
    {
      "cell_type": "code",
      "source": [
        "# Your code hereimport re\n",
        "import math\n",
        "\n",
        "print(\"Simple Command-Line Calculator\")\n",
        "print(\"Enter 'exit' to quit.\")\n",
        "\n",
        "while True:\n",
        "    expression = input(\"Enter an expression: \")\n",
        "\n",
        "    # Check if the user wants to exit\n",
        "    if expression.lower() == 'exit':\n",
        "        print(\"Goodbye!\")\n",
        "        break\n",
        "    # Handle square root and exponentiation\n",
        "    if \"sqrt\" in expression:\n",
        "        result = math.sqrt(result)\n",
        "    if \"^\" in expression:\n",
        "        result = eval(expression.replace(\"^\", \"**\"))\n",
        "\n",
        "    # Evaluate the expression\n",
        "    result = eval(expression)\n",
        "    print(\"Result:\", result)"
      ],
      "metadata": {
        "id": "8nQnVxjJuYtu"
      },
      "execution_count": null,
      "outputs": []
    },
    {
      "cell_type": "markdown",
      "metadata": {
        "id": "z3tBE7E-Xn5X"
      },
      "source": [
        "# Question 5 (30 points).\n",
        "\n",
        "In the field of Data Science, data is often formatted as a comma-delimited (CSV) file, where each line in a file corresponds to a field's value. Refer to Chapter 9 (p. 106) for more information on comma-delimited files.\n",
        "\n",
        "To answer this question, you will need to download the file [Assignment1_denton_housing.csv](https://raw.githubusercontent.com/unt-iialab/info5731-spring2022/main/assignments/Assignment1_denton_housing.csv) included with this assignment. The file contains statistics about housing in the city of Denton from 2008 to 2014. Write a program to implement the following questions.\n",
        "\n",
        "(a) (5 pts) Calculate the difference in the number of Occupied Housing Units from year to year and print it. The difference must be calculated for the consecutive years such as 2008-2009, 2009-2010 etc. Finally, print the values in the ascending order."
      ]
    },
    {
      "cell_type": "code",
      "source": [
        "# importing libraries\n",
        "\n",
        "import pandas as pd\n",
        "\n",
        "# Loading the dataset\n",
        "\n",
        "denton_housing_dataset = pd.read_csv(\"Assignment1_denton_housing.csv\")\n",
        "\n",
        "denton_housing_dataset.head()"
      ],
      "metadata": {
        "colab": {
          "base_uri": "https://localhost:8080/",
          "height": 206
        },
        "id": "72srKJwuz0w5",
        "outputId": "ab3671bf-cb0a-48dc-a247-6772baffacca"
      },
      "execution_count": 1,
      "outputs": [
        {
          "output_type": "execute_result",
          "data": {
            "text/plain": [
              "   year             title_field  value\n",
              "0  2014     Total Housing Units  49109\n",
              "1  2014    Vacant Housing Units   2814\n",
              "2  2014  Occupied Housing Units  46295\n",
              "3  2013     Total Housing Units  47888\n",
              "4  2013    Vacant Housing Units   4215"
            ],
            "text/html": [
              "\n",
              "  <div id=\"df-47bffd8d-0abd-4d76-9488-364a08c23413\" class=\"colab-df-container\">\n",
              "    <div>\n",
              "<style scoped>\n",
              "    .dataframe tbody tr th:only-of-type {\n",
              "        vertical-align: middle;\n",
              "    }\n",
              "\n",
              "    .dataframe tbody tr th {\n",
              "        vertical-align: top;\n",
              "    }\n",
              "\n",
              "    .dataframe thead th {\n",
              "        text-align: right;\n",
              "    }\n",
              "</style>\n",
              "<table border=\"1\" class=\"dataframe\">\n",
              "  <thead>\n",
              "    <tr style=\"text-align: right;\">\n",
              "      <th></th>\n",
              "      <th>year</th>\n",
              "      <th>title_field</th>\n",
              "      <th>value</th>\n",
              "    </tr>\n",
              "  </thead>\n",
              "  <tbody>\n",
              "    <tr>\n",
              "      <th>0</th>\n",
              "      <td>2014</td>\n",
              "      <td>Total Housing Units</td>\n",
              "      <td>49109</td>\n",
              "    </tr>\n",
              "    <tr>\n",
              "      <th>1</th>\n",
              "      <td>2014</td>\n",
              "      <td>Vacant Housing Units</td>\n",
              "      <td>2814</td>\n",
              "    </tr>\n",
              "    <tr>\n",
              "      <th>2</th>\n",
              "      <td>2014</td>\n",
              "      <td>Occupied Housing Units</td>\n",
              "      <td>46295</td>\n",
              "    </tr>\n",
              "    <tr>\n",
              "      <th>3</th>\n",
              "      <td>2013</td>\n",
              "      <td>Total Housing Units</td>\n",
              "      <td>47888</td>\n",
              "    </tr>\n",
              "    <tr>\n",
              "      <th>4</th>\n",
              "      <td>2013</td>\n",
              "      <td>Vacant Housing Units</td>\n",
              "      <td>4215</td>\n",
              "    </tr>\n",
              "  </tbody>\n",
              "</table>\n",
              "</div>\n",
              "    <div class=\"colab-df-buttons\">\n",
              "\n",
              "  <div class=\"colab-df-container\">\n",
              "    <button class=\"colab-df-convert\" onclick=\"convertToInteractive('df-47bffd8d-0abd-4d76-9488-364a08c23413')\"\n",
              "            title=\"Convert this dataframe to an interactive table.\"\n",
              "            style=\"display:none;\">\n",
              "\n",
              "  <svg xmlns=\"http://www.w3.org/2000/svg\" height=\"24px\" viewBox=\"0 -960 960 960\">\n",
              "    <path d=\"M120-120v-720h720v720H120Zm60-500h600v-160H180v160Zm220 220h160v-160H400v160Zm0 220h160v-160H400v160ZM180-400h160v-160H180v160Zm440 0h160v-160H620v160ZM180-180h160v-160H180v160Zm440 0h160v-160H620v160Z\"/>\n",
              "  </svg>\n",
              "    </button>\n",
              "\n",
              "  <style>\n",
              "    .colab-df-container {\n",
              "      display:flex;\n",
              "      gap: 12px;\n",
              "    }\n",
              "\n",
              "    .colab-df-convert {\n",
              "      background-color: #E8F0FE;\n",
              "      border: none;\n",
              "      border-radius: 50%;\n",
              "      cursor: pointer;\n",
              "      display: none;\n",
              "      fill: #1967D2;\n",
              "      height: 32px;\n",
              "      padding: 0 0 0 0;\n",
              "      width: 32px;\n",
              "    }\n",
              "\n",
              "    .colab-df-convert:hover {\n",
              "      background-color: #E2EBFA;\n",
              "      box-shadow: 0px 1px 2px rgba(60, 64, 67, 0.3), 0px 1px 3px 1px rgba(60, 64, 67, 0.15);\n",
              "      fill: #174EA6;\n",
              "    }\n",
              "\n",
              "    .colab-df-buttons div {\n",
              "      margin-bottom: 4px;\n",
              "    }\n",
              "\n",
              "    [theme=dark] .colab-df-convert {\n",
              "      background-color: #3B4455;\n",
              "      fill: #D2E3FC;\n",
              "    }\n",
              "\n",
              "    [theme=dark] .colab-df-convert:hover {\n",
              "      background-color: #434B5C;\n",
              "      box-shadow: 0px 1px 3px 1px rgba(0, 0, 0, 0.15);\n",
              "      filter: drop-shadow(0px 1px 2px rgba(0, 0, 0, 0.3));\n",
              "      fill: #FFFFFF;\n",
              "    }\n",
              "  </style>\n",
              "\n",
              "    <script>\n",
              "      const buttonEl =\n",
              "        document.querySelector('#df-47bffd8d-0abd-4d76-9488-364a08c23413 button.colab-df-convert');\n",
              "      buttonEl.style.display =\n",
              "        google.colab.kernel.accessAllowed ? 'block' : 'none';\n",
              "\n",
              "      async function convertToInteractive(key) {\n",
              "        const element = document.querySelector('#df-47bffd8d-0abd-4d76-9488-364a08c23413');\n",
              "        const dataTable =\n",
              "          await google.colab.kernel.invokeFunction('convertToInteractive',\n",
              "                                                    [key], {});\n",
              "        if (!dataTable) return;\n",
              "\n",
              "        const docLinkHtml = 'Like what you see? Visit the ' +\n",
              "          '<a target=\"_blank\" href=https://colab.research.google.com/notebooks/data_table.ipynb>data table notebook</a>'\n",
              "          + ' to learn more about interactive tables.';\n",
              "        element.innerHTML = '';\n",
              "        dataTable['output_type'] = 'display_data';\n",
              "        await google.colab.output.renderOutput(dataTable, element);\n",
              "        const docLink = document.createElement('div');\n",
              "        docLink.innerHTML = docLinkHtml;\n",
              "        element.appendChild(docLink);\n",
              "      }\n",
              "    </script>\n",
              "  </div>\n",
              "\n",
              "\n",
              "<div id=\"df-6f03388a-66df-4c37-9639-70c43798fcd4\">\n",
              "  <button class=\"colab-df-quickchart\" onclick=\"quickchart('df-6f03388a-66df-4c37-9639-70c43798fcd4')\"\n",
              "            title=\"Suggest charts\"\n",
              "            style=\"display:none;\">\n",
              "\n",
              "<svg xmlns=\"http://www.w3.org/2000/svg\" height=\"24px\"viewBox=\"0 0 24 24\"\n",
              "     width=\"24px\">\n",
              "    <g>\n",
              "        <path d=\"M19 3H5c-1.1 0-2 .9-2 2v14c0 1.1.9 2 2 2h14c1.1 0 2-.9 2-2V5c0-1.1-.9-2-2-2zM9 17H7v-7h2v7zm4 0h-2V7h2v10zm4 0h-2v-4h2v4z\"/>\n",
              "    </g>\n",
              "</svg>\n",
              "  </button>\n",
              "\n",
              "<style>\n",
              "  .colab-df-quickchart {\n",
              "      --bg-color: #E8F0FE;\n",
              "      --fill-color: #1967D2;\n",
              "      --hover-bg-color: #E2EBFA;\n",
              "      --hover-fill-color: #174EA6;\n",
              "      --disabled-fill-color: #AAA;\n",
              "      --disabled-bg-color: #DDD;\n",
              "  }\n",
              "\n",
              "  [theme=dark] .colab-df-quickchart {\n",
              "      --bg-color: #3B4455;\n",
              "      --fill-color: #D2E3FC;\n",
              "      --hover-bg-color: #434B5C;\n",
              "      --hover-fill-color: #FFFFFF;\n",
              "      --disabled-bg-color: #3B4455;\n",
              "      --disabled-fill-color: #666;\n",
              "  }\n",
              "\n",
              "  .colab-df-quickchart {\n",
              "    background-color: var(--bg-color);\n",
              "    border: none;\n",
              "    border-radius: 50%;\n",
              "    cursor: pointer;\n",
              "    display: none;\n",
              "    fill: var(--fill-color);\n",
              "    height: 32px;\n",
              "    padding: 0;\n",
              "    width: 32px;\n",
              "  }\n",
              "\n",
              "  .colab-df-quickchart:hover {\n",
              "    background-color: var(--hover-bg-color);\n",
              "    box-shadow: 0 1px 2px rgba(60, 64, 67, 0.3), 0 1px 3px 1px rgba(60, 64, 67, 0.15);\n",
              "    fill: var(--button-hover-fill-color);\n",
              "  }\n",
              "\n",
              "  .colab-df-quickchart-complete:disabled,\n",
              "  .colab-df-quickchart-complete:disabled:hover {\n",
              "    background-color: var(--disabled-bg-color);\n",
              "    fill: var(--disabled-fill-color);\n",
              "    box-shadow: none;\n",
              "  }\n",
              "\n",
              "  .colab-df-spinner {\n",
              "    border: 2px solid var(--fill-color);\n",
              "    border-color: transparent;\n",
              "    border-bottom-color: var(--fill-color);\n",
              "    animation:\n",
              "      spin 1s steps(1) infinite;\n",
              "  }\n",
              "\n",
              "  @keyframes spin {\n",
              "    0% {\n",
              "      border-color: transparent;\n",
              "      border-bottom-color: var(--fill-color);\n",
              "      border-left-color: var(--fill-color);\n",
              "    }\n",
              "    20% {\n",
              "      border-color: transparent;\n",
              "      border-left-color: var(--fill-color);\n",
              "      border-top-color: var(--fill-color);\n",
              "    }\n",
              "    30% {\n",
              "      border-color: transparent;\n",
              "      border-left-color: var(--fill-color);\n",
              "      border-top-color: var(--fill-color);\n",
              "      border-right-color: var(--fill-color);\n",
              "    }\n",
              "    40% {\n",
              "      border-color: transparent;\n",
              "      border-right-color: var(--fill-color);\n",
              "      border-top-color: var(--fill-color);\n",
              "    }\n",
              "    60% {\n",
              "      border-color: transparent;\n",
              "      border-right-color: var(--fill-color);\n",
              "    }\n",
              "    80% {\n",
              "      border-color: transparent;\n",
              "      border-right-color: var(--fill-color);\n",
              "      border-bottom-color: var(--fill-color);\n",
              "    }\n",
              "    90% {\n",
              "      border-color: transparent;\n",
              "      border-bottom-color: var(--fill-color);\n",
              "    }\n",
              "  }\n",
              "</style>\n",
              "\n",
              "  <script>\n",
              "    async function quickchart(key) {\n",
              "      const quickchartButtonEl =\n",
              "        document.querySelector('#' + key + ' button');\n",
              "      quickchartButtonEl.disabled = true;  // To prevent multiple clicks.\n",
              "      quickchartButtonEl.classList.add('colab-df-spinner');\n",
              "      try {\n",
              "        const charts = await google.colab.kernel.invokeFunction(\n",
              "            'suggestCharts', [key], {});\n",
              "      } catch (error) {\n",
              "        console.error('Error during call to suggestCharts:', error);\n",
              "      }\n",
              "      quickchartButtonEl.classList.remove('colab-df-spinner');\n",
              "      quickchartButtonEl.classList.add('colab-df-quickchart-complete');\n",
              "    }\n",
              "    (() => {\n",
              "      let quickchartButtonEl =\n",
              "        document.querySelector('#df-6f03388a-66df-4c37-9639-70c43798fcd4 button');\n",
              "      quickchartButtonEl.style.display =\n",
              "        google.colab.kernel.accessAllowed ? 'block' : 'none';\n",
              "    })();\n",
              "  </script>\n",
              "</div>\n",
              "\n",
              "    </div>\n",
              "  </div>\n"
            ]
          },
          "metadata": {},
          "execution_count": 1
        }
      ]
    },
    {
      "cell_type": "code",
      "source": [
        "denton_housing_dataset_occupied = denton_housing_dataset[denton_housing_dataset['title_field'] == 'Occupied Housing Units']\n",
        "\n",
        "# Calculating the difference in Occupied Housing Units from year to year\n",
        "denton_housing_dataset_occupied['Occupied Housing Units Diff from year to year'] = denton_housing_dataset_occupied['value'].diff()\n",
        "\n",
        "# Dropping the rows with NaN values (for the first year)\n",
        "\n",
        "denton_housing_dataset_occupied.dropna(inplace=True)\n",
        "\n",
        "# Printing the difference in ascending order\n",
        "\n",
        "print(denton_housing_dataset_occupied[['year', 'Occupied Housing Units Diff from year to year']].sort_values(by='Occupied Housing Units Diff from year to year'))"
      ],
      "metadata": {
        "colab": {
          "base_uri": "https://localhost:8080/"
        },
        "id": "o0vf93IIzpnD",
        "outputId": "3af0bbf8-0725-4009-f807-6f7338121037"
      },
      "execution_count": 2,
      "outputs": [
        {
          "output_type": "stream",
          "name": "stdout",
          "text": [
            "    year  Occupied Housing Units Diff from year to year\n",
            "17  2009                                        -5091.0\n",
            "5   2013                                        -2622.0\n",
            "8   2012                                        -1565.0\n",
            "11  2011                                        -1404.0\n",
            "14  2010                                          303.0\n",
            "20  2008                                          795.0\n"
          ]
        },
        {
          "output_type": "stream",
          "name": "stderr",
          "text": [
            "<ipython-input-2-0ce7ebad5131>:4: SettingWithCopyWarning: \n",
            "A value is trying to be set on a copy of a slice from a DataFrame.\n",
            "Try using .loc[row_indexer,col_indexer] = value instead\n",
            "\n",
            "See the caveats in the documentation: https://pandas.pydata.org/pandas-docs/stable/user_guide/indexing.html#returning-a-view-versus-a-copy\n",
            "  denton_housing_dataset_occupied['Occupied Housing Units Diff from year to year'] = denton_housing_dataset_occupied['value'].diff()\n",
            "<ipython-input-2-0ce7ebad5131>:8: SettingWithCopyWarning: \n",
            "A value is trying to be set on a copy of a slice from a DataFrame\n",
            "\n",
            "See the caveats in the documentation: https://pandas.pydata.org/pandas-docs/stable/user_guide/indexing.html#returning-a-view-versus-a-copy\n",
            "  denton_housing_dataset_occupied.dropna(inplace=True)\n"
          ]
        }
      ]
    },
    {
      "cell_type": "markdown",
      "source": [
        "\n",
        "(b) (5 pts) For all the years, calculate the percentage of housing units which are vacant an occupied. Print the results in the following format:\n",
        "\n",
        "Year Vacant Housing Units Occupied Housing Units\n",
        "\n",
        "    2008  30%   70%                          \n",
        "\t2009 ----- -----\n",
        "\t2010 ----- -----\n",
        "    2011 ----- -----\n",
        "\t2012 ----- -----\n",
        "    2013 ----- -----\n",
        "\t2014 ----- -----"
      ],
      "metadata": {
        "id": "xXObUuGnzfS5"
      }
    },
    {
      "cell_type": "code",
      "source": [
        "import pandas as pd\n",
        "\n",
        "# Creating separate dataframes for vacant and occupied housing units\n",
        "\n",
        "vacant_units = denton_housing_dataset[denton_housing_dataset['title_field'] == 'Vacant Housing Units'].set_index('year')['value']\n",
        "\n",
        "occupied_units = denton_housing_dataset[denton_housing_dataset['title_field'] == 'Occupied Housing Units'].set_index('year')['value']\n",
        "\n",
        "# Creating a dataframe to store the percentages\n",
        "\n",
        "percentages_df = pd.DataFrame(index=denton_housing_dataset['year'].unique(), columns=['Vacant Housing Units', 'Occupied Housing Units'])\n",
        "\n",
        "# Calculating and storing the percentages\n",
        "\n",
        "for year in denton_housing_dataset['year'].unique():\n",
        "    vacant_percentage = (vacant_units.loc[year] / (vacant_units.loc[year] + occupied_units.loc[year])) * 100\n",
        "    occupied_percentage = (occupied_units.loc[year] / (vacant_units.loc[year] + occupied_units.loc[year])) * 100\n",
        "    percentages_df.loc[year] = [f\"{vacant_percentage:.2f}%\", f\"{occupied_percentage:.2f}%\"]\n",
        "\n",
        "# Print the results\n",
        "print(\"Year Vacant Housing Units Occupied Housing Units\")\n",
        "for year, row in percentages_df.iterrows():\n",
        "    print(f\"{year} {row['Vacant Housing Units']:>20} {row['Occupied Housing Units']:>20}\")"
      ],
      "metadata": {
        "colab": {
          "base_uri": "https://localhost:8080/"
        },
        "id": "9R__fcEE-PHD",
        "outputId": "7b867ad6-e1cc-4a41-d7ba-5f26a19022a7"
      },
      "execution_count": 9,
      "outputs": [
        {
          "output_type": "stream",
          "name": "stdout",
          "text": [
            "Year Vacant Housing Units Occupied Housing Units\n",
            "2014                5.73%               94.27%\n",
            "2013                8.80%               91.20%\n",
            "2012                6.68%               93.32%\n",
            "2011                9.38%               90.62%\n",
            "2010                8.14%               91.86%\n",
            "2009                9.07%               90.93%\n",
            "2008               10.88%               89.12%\n"
          ]
        }
      ]
    },
    {
      "cell_type": "markdown",
      "source": [
        "  \n",
        "(c) (10 pts) Calculate and print the valued and years in which the highest number of housing units were vacant and occupied. Print the results in the following format:  \n",
        "\n",
        "                              Year\tValue\n",
        "\tVacant Housing Units\t  -----   -----\n",
        "\tOccupied Housing Units\t-----   -----"
      ],
      "metadata": {
        "id": "Qu6b3nY2zhx4"
      }
    },
    {
      "cell_type": "code",
      "source": [
        "import pandas as pd\n",
        "\n",
        "# Filtering the dataframe to include only 'Vacant Housing Units' and 'Occupied Housing Units' rows\n",
        "vacant_units = denton_housing_dataset[denton_housing_dataset['title_field'] == 'Vacant Housing Units']\n",
        "occupied_units = denton_housing_dataset[denton_housing_dataset['title_field'] == 'Occupied Housing Units']\n",
        "\n",
        "# Groupingby year and find the maximum value for each group\n",
        "max_vacant = vacant_units.groupby('year')['value'].max().reset_index()\n",
        "max_occupied = occupied_units.groupby('year')['value'].max().reset_index()\n",
        "\n",
        "# Getting the years and values with the highest number of housing units\n",
        "year_max_vacant = max_vacant[max_vacant['value'] == max_vacant['value'].max()]\n",
        "year_max_occupied = max_occupied[max_occupied['value'] == max_occupied['value'].max()]\n",
        "\n",
        "# Printing the highest Vacant housing and Occupied Housing results\n",
        "print(\"Vacant Housing Units\")\n",
        "print(year_max_vacant)\n",
        "\n",
        "print(\"\\nOccupied Housing Units\")\n",
        "print(year_max_occupied)"
      ],
      "metadata": {
        "id": "4XgSfBIBzn8q",
        "colab": {
          "base_uri": "https://localhost:8080/"
        },
        "outputId": "6cd9c119-c47a-4e18-a3e0-810e4fac2569"
      },
      "execution_count": 7,
      "outputs": [
        {
          "output_type": "stream",
          "name": "stdout",
          "text": [
            "Vacant Housing Units\n",
            "   year  value\n",
            "0  2008   4483\n",
            "\n",
            "Occupied Housing Units\n",
            "   year  value\n",
            "6  2014  46295\n"
          ]
        }
      ]
    },
    {
      "cell_type": "markdown",
      "source": [
        "(d) (10 pts) Calculate the harmonic mean of the total housing units and print it out. You can find the information about harmonic mean here: https://ncalculators.com/statistics/harmonic-mean-calculator.htm"
      ],
      "metadata": {
        "id": "v2ZZ-4vRzm7v"
      }
    },
    {
      "cell_type": "code",
      "execution_count": 4,
      "metadata": {
        "id": "lqGYuHBhcsRH",
        "colab": {
          "base_uri": "https://localhost:8080/"
        },
        "outputId": "10516f9f-c07f-46ed-88f0-1559b3e6079d"
      },
      "outputs": [
        {
          "output_type": "stream",
          "name": "stdout",
          "text": [
            "Harmonic Mean of Total Housing Units:\n",
            "year\n",
            "2008    41194.0\n",
            "2009    39499.0\n",
            "2010    44642.0\n",
            "2011    44917.0\n",
            "2012    45121.0\n",
            "2013    47888.0\n",
            "2014    49109.0\n",
            "Name: value, dtype: float64\n"
          ]
        }
      ],
      "source": [
        "import pandas as pd\n",
        "from scipy.stats import hmean\n",
        "\n",
        "# Filtering the dataframe to include only 'Total Housing Units' rows\n",
        "\n",
        "total_housing_units = denton_housing_dataset[denton_housing_dataset['title_field'] == 'Total Housing Units']\n",
        "\n",
        "# Grouping by year and calculate the harmonic mean of the total housing units\n",
        "\n",
        "harmonic_mean = total_housing_units.groupby('year')['value'].apply(lambda x: hmean(x))\n",
        "\n",
        "# Printing the harmonic mean\n",
        "print(\"Harmonic Mean of Total Housing Units:\")\n",
        "print(harmonic_mean)"
      ]
    },
    {
      "cell_type": "markdown",
      "source": [
        "# Mandatory Question\n",
        "\n",
        "Provide your thoughts on the assignment. What did you find challenging, and what aspects did you enjoy? Your opinion on the provided time to complete the assignment. Share any suggestions for improvement. Your feedback will be valuable for enhancing the learning experience."
      ],
      "metadata": {
        "id": "q8BFCvWp32cf"
      }
    },
    {
      "cell_type": "code",
      "source": [
        "# Write your response below"
      ],
      "metadata": {
        "id": "_e557s2w4BpK"
      },
      "execution_count": null,
      "outputs": []
    },
    {
      "cell_type": "markdown",
      "source": [
        "This assignment was a mix of easy and difficult tasks. Some parts, like basic Python coding, were easy to understand and do, while others, like working with real-world data or creating a calculator program, were more complex. Despite the challenges, it was satisfying to solve problems and learn new things, especially when dealing with practical data analysis. As for the time given to complete the assignment, it was mostly okay, but some questions needed more time to research and figure out. To make future assignments better, it could help to give clearer instructions and provide more support for tricky parts. Overall, the assignment was a good learning experience, but there's always room for improvement."
      ],
      "metadata": {
        "id": "SM74P-0g-1nE"
      }
    }
  ],
  "metadata": {
    "colab": {
      "provenance": []
    },
    "kernelspec": {
      "display_name": "Python 3 (ipykernel)",
      "language": "python",
      "name": "python3"
    },
    "language_info": {
      "codemirror_mode": {
        "name": "ipython",
        "version": 3
      },
      "file_extension": ".py",
      "mimetype": "text/x-python",
      "name": "python",
      "nbconvert_exporter": "python",
      "pygments_lexer": "ipython3",
      "version": "3.9.12"
    }
  },
  "nbformat": 4,
  "nbformat_minor": 0
}